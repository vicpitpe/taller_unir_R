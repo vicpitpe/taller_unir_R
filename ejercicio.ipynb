import pandas as pd
import folium
from folium.plugins import HeatMap, MarkerCluster

# Cargar dataset
df = pd.read_csv("fires_map.csv")

# Función para determinar color según brillo
def color_by_brightness(brightness):
    if brightness < 320: return "yellow"
    elif brightness < 340: return "orange"
    else: return "red"

# Mapa 1: HeatMap de incendios
heat_map = folium.Map(location=[df["latitude"].mean(), df["longitude"].mean()], zoom_start=6)
HeatMap(df[["latitude", "longitude"]].values).add_to(heat_map)
heat_map.save("heatmap.html")

# Mapa 2: Marcadores individuales con popups
marker_map = folium.Map(location=[df["latitude"].mean(), df["longitude"].mean()], zoom_start=6)
for _, row in df.iterrows():
    folium.Marker(
        location=[row["latitude"], row["longitude"]],
        popup=f"Brillo: {row['brightness']}",
        icon=folium.Icon(color=color_by_brightness(row["brightness"]), icon="fire")
    ).add_to(marker_map)
marker_map.save("markers.html")

# Mapa 3: Agrupación con MarkerCluster
cluster_map = folium.Map(location=[df["latitude"].mean(), df["longitude"].mean()], zoom_start=6)
marker_cluster = MarkerCluster().add_to(cluster_map)
for _, row in df.iterrows():
    folium.Marker(
        location=[row["latitude"], row["longitude"]],
        popup=f"Brillo: {row['brightness']}",
        icon=folium.Icon(color=color_by_brightness(row["brightness"]), icon="fire")
    ).add_to(marker_cluster)
cluster_map.save("cluster_map.html")

# Mapa 4: Diferenciar incendios por satélite (Aqua vs Terra)
satellite_map = folium.Map(location=[df["latitude"].mean(), df["longitude"].mean()], zoom_start=6)
aqua_group = folium.FeatureGroup(name="Aqua", overlay=True).add_to(satellite_map)
terra_group = folium.FeatureGroup(name="Terra", overlay=True).add_to(satellite_map)

for _, row in df.iterrows():
    icon_color = "blue" if row["satellite"] == "Aqua" else "green"
    marker = folium.Marker(
        location=[row["latitude"], row["longitude"]],
        popup=f"Satélite: {row['satellite']}",
        icon=folium.Icon(color=icon_color, icon="fire")
    )
    (aqua_group if row["satellite"] == "Aqua" else terra_group).add_to(marker)

folium.LayerControl().add_to(satellite_map)
satellite_map.save("satellite_map.html")

# Mapa 5: Diferenciar incendios por brillo con control de capas
brightness_map = folium.Map(location=[df["latitude"].mean(), df["longitude"].mean()], zoom_start=6)
yellow_group = folium.FeatureGroup(name="Brillo Bajo", overlay=True).add_to(brightness_map)
orange_group = folium.FeatureGroup(name="Brillo Medio", overlay=True).add_to(brightness_map)
red_group = folium.FeatureGroup(name="Brillo Alto", overlay=True).add_to(brightness_map)

for _, row in df.iterrows():
    color = color_by_brightness(row["brightness"])
    marker = folium.Marker(
        location=[row["latitude"], row["longitude"]],
        popup=f"Brillo: {row['brightness']}",
        icon=folium.Icon(color=color, icon="fire")
    )
    if color == "yellow":
        yellow_group.add_child(marker)
    elif color == "orange":
        orange_group.add_child(marker)
    else:
        red_group.add_child(marker)

folium.LayerControl().add_to(brightness_map)
brightness_map.save("brightness_map.html")
